{
 "cells": [
  {
   "cell_type": "markdown",
   "metadata": {},
   "source": [
    "# Unit 5 - Financial Planning"
   ]
  },
  {
   "cell_type": "code",
   "execution_count": 1,
   "metadata": {},
   "outputs": [
    {
     "name": "stdout",
     "output_type": "stream",
     "text": [
      "Requirement already satisfied: alpaca-trade-api in /Users/mrnickb/opt/anaconda3/envs/dev/lib/python3.7/site-packages (2.3.0)\n",
      "Requirement already satisfied: websocket-client<2,>=0.56.0 in /Users/mrnickb/opt/anaconda3/envs/dev/lib/python3.7/site-packages (from alpaca-trade-api) (0.58.0)\n",
      "Requirement already satisfied: requests<3,>2 in /Users/mrnickb/opt/anaconda3/envs/dev/lib/python3.7/site-packages (from alpaca-trade-api) (2.27.1)\n",
      "Requirement already satisfied: deprecation==2.1.0 in /Users/mrnickb/opt/anaconda3/envs/dev/lib/python3.7/site-packages (from alpaca-trade-api) (2.1.0)\n",
      "Requirement already satisfied: urllib3<2,>1.24 in /Users/mrnickb/opt/anaconda3/envs/dev/lib/python3.7/site-packages (from alpaca-trade-api) (1.26.9)\n",
      "Requirement already satisfied: PyYAML==6.0 in /Users/mrnickb/opt/anaconda3/envs/dev/lib/python3.7/site-packages (from alpaca-trade-api) (6.0)\n",
      "Requirement already satisfied: msgpack==1.0.3 in /Users/mrnickb/opt/anaconda3/envs/dev/lib/python3.7/site-packages (from alpaca-trade-api) (1.0.3)\n",
      "Requirement already satisfied: websockets<11,>=9.0 in /Users/mrnickb/opt/anaconda3/envs/dev/lib/python3.7/site-packages (from alpaca-trade-api) (10.3)\n",
      "Requirement already satisfied: aiohttp==3.8.1 in /Users/mrnickb/opt/anaconda3/envs/dev/lib/python3.7/site-packages (from alpaca-trade-api) (3.8.1)\n",
      "Requirement already satisfied: numpy>=1.11.1 in /Users/mrnickb/opt/anaconda3/envs/dev/lib/python3.7/site-packages (from alpaca-trade-api) (1.21.5)\n",
      "Requirement already satisfied: pandas>=0.18.1 in /Users/mrnickb/opt/anaconda3/envs/dev/lib/python3.7/site-packages (from alpaca-trade-api) (1.3.5)\n",
      "Requirement already satisfied: async-timeout<5.0,>=4.0.0a3 in /Users/mrnickb/opt/anaconda3/envs/dev/lib/python3.7/site-packages (from aiohttp==3.8.1->alpaca-trade-api) (4.0.1)\n",
      "Requirement already satisfied: asynctest==0.13.0 in /Users/mrnickb/opt/anaconda3/envs/dev/lib/python3.7/site-packages (from aiohttp==3.8.1->alpaca-trade-api) (0.13.0)\n",
      "Requirement already satisfied: charset-normalizer<3.0,>=2.0 in /Users/mrnickb/opt/anaconda3/envs/dev/lib/python3.7/site-packages (from aiohttp==3.8.1->alpaca-trade-api) (2.0.4)\n",
      "Requirement already satisfied: aiosignal>=1.1.2 in /Users/mrnickb/opt/anaconda3/envs/dev/lib/python3.7/site-packages (from aiohttp==3.8.1->alpaca-trade-api) (1.2.0)\n",
      "Requirement already satisfied: multidict<7.0,>=4.5 in /Users/mrnickb/opt/anaconda3/envs/dev/lib/python3.7/site-packages (from aiohttp==3.8.1->alpaca-trade-api) (5.2.0)\n",
      "Requirement already satisfied: frozenlist>=1.1.1 in /Users/mrnickb/opt/anaconda3/envs/dev/lib/python3.7/site-packages (from aiohttp==3.8.1->alpaca-trade-api) (1.2.0)\n",
      "Requirement already satisfied: typing-extensions>=3.7.4 in /Users/mrnickb/opt/anaconda3/envs/dev/lib/python3.7/site-packages (from aiohttp==3.8.1->alpaca-trade-api) (4.1.1)\n",
      "Requirement already satisfied: yarl<2.0,>=1.0 in /Users/mrnickb/opt/anaconda3/envs/dev/lib/python3.7/site-packages (from aiohttp==3.8.1->alpaca-trade-api) (1.5.1)\n",
      "Requirement already satisfied: attrs>=17.3.0 in /Users/mrnickb/opt/anaconda3/envs/dev/lib/python3.7/site-packages (from aiohttp==3.8.1->alpaca-trade-api) (21.4.0)\n",
      "Requirement already satisfied: packaging in /Users/mrnickb/opt/anaconda3/envs/dev/lib/python3.7/site-packages (from deprecation==2.1.0->alpaca-trade-api) (21.3)\n",
      "Requirement already satisfied: python-dateutil>=2.7.3 in /Users/mrnickb/opt/anaconda3/envs/dev/lib/python3.7/site-packages (from pandas>=0.18.1->alpaca-trade-api) (2.8.2)\n",
      "Requirement already satisfied: pytz>=2017.3 in /Users/mrnickb/opt/anaconda3/envs/dev/lib/python3.7/site-packages (from pandas>=0.18.1->alpaca-trade-api) (2021.3)\n",
      "Requirement already satisfied: six>=1.5 in /Users/mrnickb/opt/anaconda3/envs/dev/lib/python3.7/site-packages (from python-dateutil>=2.7.3->pandas>=0.18.1->alpaca-trade-api) (1.16.0)\n",
      "Requirement already satisfied: certifi>=2017.4.17 in /Users/mrnickb/opt/anaconda3/envs/dev/lib/python3.7/site-packages (from requests<3,>2->alpaca-trade-api) (2021.10.8)\n",
      "Requirement already satisfied: idna<4,>=2.5 in /Users/mrnickb/opt/anaconda3/envs/dev/lib/python3.7/site-packages (from requests<3,>2->alpaca-trade-api) (3.3)\n",
      "Requirement already satisfied: pyparsing!=3.0.5,>=2.0.2 in /Users/mrnickb/opt/anaconda3/envs/dev/lib/python3.7/site-packages (from packaging->deprecation==2.1.0->alpaca-trade-api) (3.0.4)\n",
      "Note: you may need to restart the kernel to use updated packages.\n"
     ]
    }
   ],
   "source": [
    "pip install alpaca-trade-api"
   ]
  },
  {
   "cell_type": "code",
   "execution_count": 2,
   "metadata": {},
   "outputs": [],
   "source": [
    "# Initial imports\n",
    "import os\n",
    "import requests\n",
    "import pandas as pd\n",
    "from dotenv import load_dotenv\n",
    "import alpaca_trade_api as tradeapi\n",
    "from MCForecastTools import MCSimulation\n",
    "from pathlib import Path\n",
    "\n",
    "%matplotlib inline"
   ]
  },
  {
   "cell_type": "code",
   "execution_count": 3,
   "metadata": {},
   "outputs": [
    {
     "data": {
      "text/plain": [
       "True"
      ]
     },
     "execution_count": 3,
     "metadata": {},
     "output_type": "execute_result"
    }
   ],
   "source": [
    "# Load .env enviroment variables\n",
    "load_dotenv()"
   ]
  },
  {
   "cell_type": "markdown",
   "metadata": {},
   "source": [
    "## Part 1 - Personal Finance Planner"
   ]
  },
  {
   "cell_type": "markdown",
   "metadata": {},
   "source": [
    "### Collect Crypto Prices Using the `requests` Library"
   ]
  },
  {
   "cell_type": "code",
   "execution_count": 4,
   "metadata": {},
   "outputs": [],
   "source": [
    "# Set current amount of crypto assets\n",
    "# YOUR CODE HERE!\n",
    "rq_btc=1.2\n",
    "rq_eth=5.3"
   ]
  },
  {
   "cell_type": "code",
   "execution_count": 5,
   "metadata": {},
   "outputs": [],
   "source": [
    "# Crypto API URLs\n",
    "btc_url = \"https://api.alternative.me/v2/ticker/Bitcoin/?convert=CAD\"\n",
    "eth_url = \"https://api.alternative.me/v2/ticker/Ethereum/?convert=CAD\""
   ]
  },
  {
   "cell_type": "code",
   "execution_count": 6,
   "metadata": {},
   "outputs": [
    {
     "name": "stdout",
     "output_type": "stream",
     "text": [
      "The current value of your 1.2 BTC is $24301.20\n",
      "The current value of your 5.3 ETH is $5883.32\n",
      "The current value of your crypto wallet is $25,411.26\n"
     ]
    }
   ],
   "source": [
    "# Fetch current BTC price\n",
    "# YOUR CODE HERE!\n",
    "btc_price = (requests.get(url=btc_url).json()).get('data').get('1').get('quotes').get('USD').get('price')\n",
    "\n",
    "# Fetch current ETH price\n",
    "# YOUR CODE HERE!\n",
    "eth_price = (requests.get(url=eth_url).json()).get('data').get('1027').get('quotes').get('USD').get('price')\n",
    "# Compute current value of my crpto\n",
    "# YOUR CODE HERE!\n",
    "btc_value= btc_price * rq_btc\n",
    "eth_value= eth_price * rq_eth\n",
    "crypto_value=btc_value + eth_price\n",
    "\n",
    "# Print current crypto wallet balance\n",
    "print(f\"The current value of your {rq_btc} BTC is ${btc_value:0.2f}\")\n",
    "print(f\"The current value of your {rq_eth} ETH is ${eth_value:0.2f}\")\n",
    "print(f\"The current value of your crypto wallet is \" + \"${:,.2f}\".format(crypto_value))"
   ]
  },
  {
   "cell_type": "markdown",
   "metadata": {},
   "source": [
    "### Collect Investments Data Using Alpaca: `SPY` (stocks) and `AGG` (bonds)"
   ]
  },
  {
   "cell_type": "code",
   "execution_count": 7,
   "metadata": {},
   "outputs": [],
   "source": [
    "# Set current amount of shares\n",
    "my_agg = 200\n",
    "my_spy = 50"
   ]
  },
  {
   "cell_type": "code",
   "execution_count": 8,
   "metadata": {},
   "outputs": [],
   "source": [
    "# Set Alpaca API key and secret\n",
    "# YOUR CODE HERE!\n",
    "basepath=Path()\n",
    "basedir=str(basepath.cwd())\n",
    "envars= basepath.cwd() / '.env'\n",
    "# load_dotenv(envars)\n",
    "\n",
    "api_key = os.getenv('api_key')\n",
    "api_secret = os.getenv('secret_key')\n",
    "base_url = 'https://paper-api.alpaca.markets'\n",
    "\n",
    "\n",
    "# Create the Alpaca API object\n",
    "# YOUR CODE HERE!\n",
    "alpaca = tradeapi.REST(\n",
    "    api_key,\n",
    "    api_secret,\n",
    "    api_version=\"v2\"\n",
    ")\n",
    "\n"
   ]
  },
  {
   "cell_type": "code",
   "execution_count": null,
   "metadata": {},
   "outputs": [],
   "source": [
    "# Format current date as ISO format\n",
    "# YOUR CODE HERE!\n",
    "today = pd.Timestamp('2022-07-12',tz=\"America/New_York\").isoformat()\n",
    "\n",
    "# Set the tickers\n",
    "tickers = [\"AGG\", \"SPY\"]\n",
    "\n",
    "# Set timeframe to \"1Day\" for Alpaca API\n",
    "timeframe = \"1Day\"\n",
    "\n",
    "# Get current closing prices for SPY and AGG\n",
    "# YOUR CODE HERE!\n",
    "tickers_df = alpaca.get_bars(\n",
    "    tickers,\n",
    "    timeframe,\n",
    "    start= today,\n",
    "    end= today\n",
    ").df\n",
    "# Reorganize the DataFrame\n",
    "# Separate ticker data\n",
    "# YOUR CODE HERE!\n",
    "AGG_df = tickers_df[tickers_df['symbol']=='AGG'].drop(columns='symbol')\n",
    "SPY_df = tickers_df[tickers_df['symbol']=='SPY'].drop(columns='symbol')\n",
    "# Concatenate the ticker DataFrames\n",
    "# YOUR CODE HERE!\n",
    "tickers_ct = pd.concat([AGG_df,SPY_df],axis=1,keys=['AGG','SPY'])\n",
    "# Preview DataFrame\n",
    "# YOUR CODE HERE!\n",
    "\n",
    "tickers_ct\n"
   ]
  },
  {
   "cell_type": "code",
   "execution_count": null,
   "metadata": {},
   "outputs": [],
   "source": [
    "# Pick AGG and SPY close prices\n",
    "# YOUR CODE HERE!\n",
    "agg_close_price = float(tickers_ct['AGG'][\"close\"])\n",
    "spy_close_price = float(tickers_ct['SPY'][\"close\"])\n",
    "\n",
    "\n",
    "# Print AGG and SPY close prices\n",
    "print(f\"Current AGG closing price: ${agg_close_price}\")\n",
    "print(f\"Current SPY closing price: ${spy_close_price}\")"
   ]
  },
  {
   "cell_type": "code",
   "execution_count": null,
   "metadata": {},
   "outputs": [],
   "source": [
    "# Compute the current value of shares\n",
    "# YOUR CODE HERE!\n",
    "my_agg_value= agg_close_price * my_agg\n",
    "my_spy_value= spy_close_price * my_spy\n",
    "my_portfolio_value= my_agg_value + my_spy_value\n",
    "\n",
    "# Print current value of shares\n",
    "print(f\"The current value of your {my_spy} SPY shares is ${my_spy_value:0.2f}\")\n",
    "print(f\"The current value of your {my_agg} AGG shares is ${my_agg_value:0.2f}\")"
   ]
  },
  {
   "cell_type": "markdown",
   "metadata": {},
   "source": [
    "### Savings Health Analysis"
   ]
  },
  {
   "cell_type": "code",
   "execution_count": null,
   "metadata": {},
   "outputs": [],
   "source": [
    "# Set monthly household income\n",
    "# YOUR CODE HERE!\n",
    "monthly_income=12000\n",
    "\n",
    "# Consolidate financial assets data\n",
    "# YOUR CODE HERE!\n",
    "savings_data=[crypto_value,my_portfolio_value]\n",
    "\n",
    "# Create savings DataFrame\n",
    "# YOUR CODE HERE!\n",
    "savings_df = pd.DataFrame(savings_data, columns=(['amount']), index=(['crypto','stock/bond']))\n",
    "# Display savings DataFrame\n",
    "display(savings_df)"
   ]
  },
  {
   "cell_type": "code",
   "execution_count": null,
   "metadata": {},
   "outputs": [],
   "source": [
    "# Plot savings pie chart\n",
    "# YOUR CODE HERE!\n",
    "savings_df.plot.pie(y=\"amount\", title=\"Savings Portfolio\")\n"
   ]
  },
  {
   "cell_type": "code",
   "execution_count": null,
   "metadata": {},
   "outputs": [],
   "source": [
    "# Set ideal emergency fund\n",
    "emergency_fund = monthly_income * 3\n",
    "\n",
    "# Calculate total amount of savings\n",
    "# YOUR CODE HERE!\n",
    "total_port_value = crypto_value+my_portfolio_value\n",
    "\n",
    "# Validate saving health\n",
    "if total_port_value > emergency_fund:\n",
    "    print(\"Congratulations! You have enough money in your emergency fund.\")\n",
    "elif total_port_value == emergency_fund:\n",
    "    print(\"Congratulations! You reached an important financial goal.\")\n",
    "elif total_port_value < emergency_fund:\n",
    "    print(\"You are \" + \"${:,.2f}\".format(delta_goal) + \" away.\")\n",
    "# YOUR CODE HERE!\n"
   ]
  },
  {
   "cell_type": "markdown",
   "metadata": {},
   "source": [
    "## Part 2 - Retirement Planning\n",
    "\n",
    "### Monte Carlo Simulation"
   ]
  },
  {
   "cell_type": "code",
   "execution_count": null,
   "metadata": {},
   "outputs": [],
   "source": [
    "# Set start and end dates of five years back from today.\n",
    "# Sample results may vary from the solution based on the time frame chosen\n",
    "start_date = pd.Timestamp('2016-05-01', tz='America/New_York').isoformat()\n",
    "end_date = pd.Timestamp('2021-05-01', tz='America/New_York').isoformat()"
   ]
  },
  {
   "cell_type": "code",
   "execution_count": null,
   "metadata": {},
   "outputs": [],
   "source": [
    "# Get 5 years' worth of historical data for SPY and AGG\n",
    "# YOUR CODE HERE!\n",
    "tickers_5y_df = alpaca.get_bars(\n",
    "    tickers,\n",
    "    timeframe,\n",
    "    start= start_date,\n",
    "    end= end_date\n",
    ").df\n",
    "tickers_5y_df\n",
    "\n",
    "# Reorganize the DataFrame\n",
    "# Separate ticker data\n",
    "# YOUR CODE HERE!\n",
    "AGG_df = tickers_5y_df[tickers_5y_df['symbol']=='AGG'].drop(columns='symbol')\n",
    "SPY_df = tickers_5y_df[tickers_5y_df['symbol']=='SPY'].drop(columns='symbol')\n",
    "\n",
    "# Concatenate the ticker DataFrames\n",
    "# YOUR CODE HERE!\n",
    "tickers_5y_ct = pd.concat([AGG_df,SPY_df],axis=1,keys=['AGG','SPY'])\n",
    "# Display sample data\n",
    "#df_stock_data.head()\n",
    "tickers_5y_ct\n"
   ]
  },
  {
   "cell_type": "code",
   "execution_count": null,
   "metadata": {},
   "outputs": [],
   "source": [
    "# Configuring a Monte Carlo simulation to forecast 30 years cumulative returns\n",
    "# YOUR CODE HERE!\n",
    "MC_30year = MCSimulation(\n",
    "    portfolio_data = tickers_5y_ct,\n",
    "    weights = [.60,.40],\n",
    "    num_simulation = 500,\n",
    "    num_trading_days = 252*30\n",
    ")"
   ]
  },
  {
   "cell_type": "code",
   "execution_count": null,
   "metadata": {},
   "outputs": [],
   "source": [
    "# Printing the simulation input data\n",
    "# YOUR CODE HERE!\n",
    "MC_30year.portfolio_data.head()"
   ]
  },
  {
   "cell_type": "code",
   "execution_count": null,
   "metadata": {},
   "outputs": [],
   "source": [
    "# Running a Monte Carlo simulation to forecast 30 years cumulative returns\n",
    "# YOUR CODE HERE!\n",
    "MC_30year.calc_cumulative_return()"
   ]
  },
  {
   "cell_type": "code",
   "execution_count": null,
   "metadata": {},
   "outputs": [],
   "source": [
    "# Plot simulation outcomes\n",
    "# YOUR CODE HERE!\n",
    "\n",
    "line_plot = MC_30year.plot_simulation()"
   ]
  },
  {
   "cell_type": "code",
   "execution_count": null,
   "metadata": {},
   "outputs": [],
   "source": [
    "# Plot probability distribution and confidence intervals\n",
    "# YOUR CODE HERE!\n",
    "\n",
    "dist_plot = MC_30year.plot_distribution()"
   ]
  },
  {
   "cell_type": "markdown",
   "metadata": {},
   "source": [
    "### Retirement Analysis"
   ]
  },
  {
   "cell_type": "code",
   "execution_count": null,
   "metadata": {},
   "outputs": [],
   "source": [
    "# Fetch summary statistics from the Monte Carlo simulation results\n",
    "# YOUR CODE HERE!\n",
    "MC_results = MC_30year.summarize_cumulative_return()\n",
    "# Print summary statistics\n",
    "# YOUR CODE HERE!\n",
    "\n",
    "print (MC_results)\n"
   ]
  },
  {
   "cell_type": "markdown",
   "metadata": {},
   "source": [
    "### Calculate the expected portfolio return at the `95%` lower and upper confidence intervals based on a `$20,000` initial investment."
   ]
  },
  {
   "cell_type": "code",
   "execution_count": null,
   "metadata": {},
   "outputs": [],
   "source": [
    "# Set initial investment\n",
    "initial_investment = 20000\n",
    "\n",
    "# Use the lower and upper `95%` confidence intervals to calculate the range of the possible outcomes of our $20,000\n",
    "# YOUR CODE HERE!\n",
    "ci_lower = round(MC_results[8]*initial_investment,2)\n",
    "ci_upper = round(MC_results[9]*initial_investment,2)\n",
    "\n",
    "# Print results\n",
    "print(f\"There is a 95% chance that an initial investment of ${initial_investment} in the portfolio\"\n",
    "      f\" over the next 30 years will end within in the range of\"\n",
    "      f\" ${ci_lower} and ${ci_upper}\")"
   ]
  },
  {
   "cell_type": "markdown",
   "metadata": {},
   "source": [
    "### Calculate the expected portfolio return at the `95%` lower and upper confidence intervals based on a `50%` increase in the initial investment."
   ]
  },
  {
   "cell_type": "code",
   "execution_count": null,
   "metadata": {},
   "outputs": [],
   "source": [
    "# Set initial investment\n",
    "initial_investment = 20000 * 1.5\n",
    "\n",
    "# Use the lower and upper `95%` confidence intervals to calculate the range of the possible outcomes of our $30,000\n",
    "# YOUR CODE HERE!\n",
    "ci_lower = round(MC_results[8]*initial_investment,2)\n",
    "ci_upper = round(MC_results[9]*initial_investment,2)\n",
    "\n",
    "# Print results\n",
    "print(f\"There is a 95% chance that an initial investment of ${initial_investment} in the portfolio\"\n",
    "      f\" over the next 30 years will end within in the range of\"\n",
    "      f\" ${ci_lower} and ${ci_upper}\")"
   ]
  },
  {
   "cell_type": "markdown",
   "metadata": {},
   "source": [
    "## Optional Challenge - Early Retirement\n",
    "\n",
    "\n",
    "### Five Years Retirement Option"
   ]
  },
  {
   "cell_type": "code",
   "execution_count": null,
   "metadata": {},
   "outputs": [],
   "source": [
    "# Configuring a Monte Carlo simulation to forecast 5 years cumulative returns\n",
    "# YOUR CODE HERE!"
   ]
  },
  {
   "cell_type": "code",
   "execution_count": null,
   "metadata": {},
   "outputs": [],
   "source": [
    "# Running a Monte Carlo simulation to forecast 5 years cumulative returns\n",
    "# YOUR CODE HERE!"
   ]
  },
  {
   "cell_type": "code",
   "execution_count": null,
   "metadata": {},
   "outputs": [],
   "source": [
    "# Plot simulation outcomes\n",
    "# YOUR CODE HERE!"
   ]
  },
  {
   "cell_type": "code",
   "execution_count": null,
   "metadata": {},
   "outputs": [],
   "source": [
    "# Plot probability distribution and confidence intervals\n",
    "# YOUR CODE HERE!"
   ]
  },
  {
   "cell_type": "code",
   "execution_count": null,
   "metadata": {},
   "outputs": [],
   "source": [
    "# Fetch summary statistics from the Monte Carlo simulation results\n",
    "# YOUR CODE HERE!\n",
    "\n",
    "# Print summary statistics\n",
    "# YOUR CODE HERE!"
   ]
  },
  {
   "cell_type": "code",
   "execution_count": null,
   "metadata": {},
   "outputs": [],
   "source": [
    "# Set initial investment\n",
    "# YOUR CODE HERE!\n",
    "\n",
    "# Use the lower and upper `95%` confidence intervals to calculate the range of the possible outcomes of our $60,000\n",
    "# YOUR CODE HERE!\n",
    "\n",
    "# Print results\n",
    "print(f\"There is a 95% chance that an initial investment of ${initial_investment} in the portfolio\"\n",
    "      f\" over the next 5 years will end within in the range of\"\n",
    "      f\" ${ci_lower_five} and ${ci_upper_five}\")"
   ]
  },
  {
   "cell_type": "markdown",
   "metadata": {},
   "source": [
    "### Ten Years Retirement Option"
   ]
  },
  {
   "cell_type": "code",
   "execution_count": null,
   "metadata": {},
   "outputs": [],
   "source": [
    "# Configuring a Monte Carlo simulation to forecast 10 years cumulative returns\n",
    "# YOUR CODE HERE!"
   ]
  },
  {
   "cell_type": "code",
   "execution_count": null,
   "metadata": {},
   "outputs": [],
   "source": [
    "# Running a Monte Carlo simulation to forecast 10 years cumulative returns\n",
    "# YOUR CODE HERE!"
   ]
  },
  {
   "cell_type": "code",
   "execution_count": null,
   "metadata": {},
   "outputs": [],
   "source": [
    "# Plot simulation outcomes\n",
    "# YOUR CODE HERE!"
   ]
  },
  {
   "cell_type": "code",
   "execution_count": null,
   "metadata": {},
   "outputs": [],
   "source": [
    "# Plot probability distribution and confidence intervals\n",
    "# YOUR CODE HERE!"
   ]
  },
  {
   "cell_type": "code",
   "execution_count": null,
   "metadata": {},
   "outputs": [],
   "source": [
    "# Fetch summary statistics from the Monte Carlo simulation results\n",
    "# YOUR CODE HERE!\n",
    "\n",
    "# Print summary statistics\n",
    "# YOUR CODE HERE!"
   ]
  },
  {
   "cell_type": "code",
   "execution_count": null,
   "metadata": {},
   "outputs": [],
   "source": [
    "# Set initial investment\n",
    "# YOUR CODE HERE!\n",
    "\n",
    "# Use the lower and upper `95%` confidence intervals to calculate the range of the possible outcomes of our $60,000\n",
    "# YOUR CODE HERE!\n",
    "\n",
    "# Print results\n",
    "print(f\"There is a 95% chance that an initial investment of ${initial_investment} in the portfolio\"\n",
    "      f\" over the next 10 years will end within in the range of\"\n",
    "      f\" ${ci_lower_ten} and ${ci_upper_ten}\")"
   ]
  },
  {
   "cell_type": "code",
   "execution_count": null,
   "metadata": {},
   "outputs": [],
   "source": []
  }
 ],
 "metadata": {
  "kernelspec": {
   "display_name": "dev",
   "language": "python",
   "name": "dev"
  },
  "language_info": {
   "codemirror_mode": {
    "name": "ipython",
    "version": 3
   },
   "file_extension": ".py",
   "mimetype": "text/x-python",
   "name": "python",
   "nbconvert_exporter": "python",
   "pygments_lexer": "ipython3",
   "version": "3.7.13"
  },
  "nteract": {
   "version": "0.28.0"
  }
 },
 "nbformat": 4,
 "nbformat_minor": 4
}
